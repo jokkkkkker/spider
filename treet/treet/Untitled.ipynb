{
 "cells": [
  {
   "cell_type": "code",
   "execution_count": 3,
   "id": "6b7f041f",
   "metadata": {},
   "outputs": [],
   "source": [
    "import pandas as pd"
   ]
  },
  {
   "cell_type": "code",
   "execution_count": 5,
   "id": "8f7f4616",
   "metadata": {},
   "outputs": [],
   "source": [
    "a = pd.read_csv('treetSpider.csv', encoding='utf-8')"
   ]
  },
  {
   "cell_type": "code",
   "execution_count": 25,
   "id": "140d42de",
   "metadata": {},
   "outputs": [],
   "source": [
    "x = a.content[0].split(',')"
   ]
  },
  {
   "cell_type": "code",
   "execution_count": 28,
   "id": "a54fab63",
   "metadata": {},
   "outputs": [],
   "source": [
    "for i in x:\n",
    "    if '$' not in i:\n",
    "        name =''.join(i)"
   ]
  },
  {
   "cell_type": "code",
   "execution_count": 33,
   "id": "dafdfe19",
   "metadata": {},
   "outputs": [
    {
     "data": {
      "text/plain": [
       "['Ribbed',\n",
       " ' ',\n",
       " 'Henley',\n",
       " ' ',\n",
       " 'Longsleeve',\n",
       " '$45.00',\n",
       " '$18.00',\n",
       " 'Size',\n",
       " ': S',\n",
       " 'Color',\n",
       " ': TWILIGHT MAUVE HEATHER',\n",
       " 'Condition',\n",
       " ': ',\n",
       " 'Excellent Condition',\n",
       " 'Product Details',\n",
       " 'Feel good about your basics. This classic henley plants ten trees while cutting down on water',\n",
       " ' waste',\n",
       " ' and CO2 emissions.',\n",
       " 'Size Guide',\n",
       " 'Backed By Treet Buyer Protection',\n",
       " 'Add to bag']"
      ]
     },
     "execution_count": 33,
     "metadata": {},
     "output_type": "execute_result"
    }
   ],
   "source": [
    "x"
   ]
  },
  {
   "cell_type": "code",
   "execution_count": 34,
   "id": "4e14f9ca",
   "metadata": {},
   "outputs": [],
   "source": [
    "name ='|'.join(x)"
   ]
  },
  {
   "cell_type": "code",
   "execution_count": 35,
   "id": "3f4e2976",
   "metadata": {},
   "outputs": [
    {
     "data": {
      "text/plain": [
       "'Ribbed| |Henley| |Longsleeve|$45.00|$18.00|Size|: S|Color|: TWILIGHT MAUVE HEATHER|Condition|: |Excellent Condition|Product Details|Feel good about your basics. This classic henley plants ten trees while cutting down on water| waste| and CO2 emissions.|Size Guide|Backed By Treet Buyer Protection|Add to bag'"
      ]
     },
     "execution_count": 35,
     "metadata": {},
     "output_type": "execute_result"
    }
   ],
   "source": [
    "name"
   ]
  },
  {
   "cell_type": "code",
   "execution_count": null,
   "id": "6b065409",
   "metadata": {},
   "outputs": [],
   "source": []
  }
 ],
 "metadata": {
  "kernelspec": {
   "display_name": "Python 3 (ipykernel)",
   "language": "python",
   "name": "python3"
  },
  "language_info": {
   "codemirror_mode": {
    "name": "ipython",
    "version": 3
   },
   "file_extension": ".py",
   "mimetype": "text/x-python",
   "name": "python",
   "nbconvert_exporter": "python",
   "pygments_lexer": "ipython3",
   "version": "3.9.12"
  }
 },
 "nbformat": 4,
 "nbformat_minor": 5
}
